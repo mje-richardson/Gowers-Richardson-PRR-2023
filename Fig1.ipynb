{
 "cells": [
  {
   "cell_type": "markdown",
   "id": "84970880",
   "metadata": {},
   "source": [
    "# Figure 1. Synaptic input and upcrossing event."
   ]
  },
  {
   "cell_type": "markdown",
   "id": "b84d8c98",
   "metadata": {},
   "source": [
    "Copyright (C) 2023 Robert Gowers and Magnus Richardson\n",
    "\n",
    "This program is free software; you can redistribute it and/or modify it under the terms of the GNU General Public\n",
    "License as published by the Free Software Foundation; either version 3 of the License, or (at your option) any later version.\n",
    "\n",
    "This program is distributed in the hope that it will be useful, but WITHOUT ANY WARRANTY; without even the implied warranty of MERCHANTABILITY or FITNESS FOR A PARTICULAR PURPOSE. See the GNU General Public License for more details.\n",
    "\n",
    "You should have received a copy of the GNU General Public License along with this program; if not, see <https://www.gnu.org/licenses>."
   ]
  },
  {
   "cell_type": "markdown",
   "id": "e951c37d",
   "metadata": {},
   "source": [
    "---  "
   ]
  },
  {
   "cell_type": "code",
   "execution_count": 1,
   "id": "018cb6d8",
   "metadata": {},
   "outputs": [
    {
     "name": "stdout",
     "output_type": "stream",
     "text": [
      "\n",
      "------------------------------------------\n",
      "EL=-60.0 \tEe=0.0  \tEi=-80.0\n",
      "tauL=40.0 \ttaue=3.0 \ttaui=10.0\n",
      "lamL=224.0 \tlame=19.0 \tlami=64.0\n",
      "\t\tgame=0.1 \tgami=0.1\n",
      "\n",
      "kappa=0.6 tau0=24.0\n",
      "D=1250.0\n",
      "Vth=-50.0 Vre=-60.0\n",
      "L=2000.0\n",
      "------------------------------------------\n",
      "\n"
     ]
    }
   ],
   "source": [
    "# Packages\n",
    "using PyPlot\n",
    "using DelimitedFiles\n",
    "using Statistics\n",
    "using Distributions\n",
    "using Random\n",
    "\n",
    "# Load functions and model parameters common to all figures\n",
    "include(\"CommonCode.jl\");"
   ]
  },
  {
   "cell_type": "markdown",
   "id": "25186c8d",
   "metadata": {},
   "source": [
    "---  "
   ]
  },
  {
   "cell_type": "markdown",
   "id": "193e9375",
   "metadata": {},
   "source": [
    "## Functions for this figure only    "
   ]
  },
  {
   "cell_type": "code",
   "execution_count": 2,
   "id": "c392d624",
   "metadata": {},
   "outputs": [],
   "source": [
    "function DendrShotSingleSynapseSim(x,t,xs,ts,game)\n",
    "    \n",
    "    dt=t[2]-t[1]; nt=length(t); \n",
    "    dx=x[2]-x[1]; nx=length(x)\n",
    "    sh=Int(round(nx/2;digits=0)) # this is the central point\n",
    "    \n",
    "    # Initialise\n",
    "    U=zeros(nx,nt);  U[:,1].=EL\n",
    "    He=zeros(nx,nt); He[:,1].=0\n",
    "    Hi=zeros(nx,nt); Hi[:,1].=0\n",
    "    \n",
    "    # useful constants\n",
    "    HL=1/tauL\n",
    "    D=lamL^2/tauL\n",
    "    \n",
    "    kts=maximum(findall(t.<=ts))\n",
    "    kxs=maximum(findall(x.<=xs))\n",
    "    \n",
    "    for k=1:nt-1\n",
    "        \n",
    "        ##########################################\n",
    "        # Synaptic input shared by all\n",
    "        ##########################################\n",
    "        He[:,k+1]=He[:,k] .- (dt/taue)*He[:,k] \n",
    "        Hi[:,k+1]=Hi[:,k] .- (dt/taui)*Hi[:,k]  \n",
    "        if k+1==kts\n",
    "            He[kxs,k+1]=He[kxs,k+1]+game/(2*pi*a*c*dx)\n",
    "        end\n",
    "        \n",
    "        ##########################################\n",
    "        # Voltage dynamics\n",
    "        ##########################################\n",
    "        HeU=He[:,k].*(Ee .-U[:,k])\n",
    "        HiU=Hi[:,k].*(Ei .-U[:,k])\n",
    "        HLU=(EL .-U[:,k])/tauL\n",
    "        Dd2Udx2=D*diff(diff([U[1,k];U[:,k];U[end,k]]))/dx^2\n",
    "        U[:,k+1]=U[:,k] .+ dt*( HLU .+ HeU .+ HiU .+ Dd2Udx2 )\n",
    "        \n",
    "    end\n",
    "    \n",
    "    return U,He,Hi\n",
    "\n",
    "end;"
   ]
  },
  {
   "cell_type": "code",
   "execution_count": 3,
   "id": "9b0d1f4d",
   "metadata": {},
   "outputs": [],
   "source": [
    "# Single run for the point-neuron in the Gaussian approximation\n",
    "function PointShotSingleSynapseSim(t,ts,game)\n",
    "\n",
    "    dt=t[2]-t[1]\n",
    "    nt=length(t); \n",
    "    \n",
    "    # initialise\n",
    "    U=zeros(nt);   U[1]=EL\n",
    "    He=zeros(nt);  He[1]=0\n",
    "    Hi=zeros(nt);  Hi[1]=0\n",
    "    \n",
    "    # the synaptic spike is here\n",
    "    ks=maximum(findall(t.<=ts))\n",
    "    \n",
    "    for k=1:nt-1\n",
    "        \n",
    "        ##########################################\n",
    "        # synaptic dynamics are used by all cases\n",
    "        ##########################################\n",
    "        He[k+1]=He[k] - (dt/taue)*He[k]\n",
    "        Hi[k+1]=Hi[k] - (dt/taui)*Hi[k]\n",
    "        if k==ks\n",
    "            He[k+1]=He[k+1]+game/C\n",
    "        end\n",
    "        \n",
    "        ##########################################\n",
    "        # upcrossing quantities with cross terms\n",
    "        ##########################################\n",
    "        HeU=He[k].*(Ee -U[k])\n",
    "        HiU=Hi[k].*(Ei -U[k])\n",
    "        HLU=(EL-U[k])/tauL\n",
    "        U[k+1]=U[k] + dt*(HLU + HeU + HiU)\n",
    "        \n",
    "    end\n",
    "    \n",
    "    return U,He,Hi\n",
    "\n",
    "end;"
   ]
  },
  {
   "cell_type": "code",
   "execution_count": 4,
   "id": "817cd5b9",
   "metadata": {},
   "outputs": [],
   "source": [
    "# My analytical functions\n",
    "\n",
    "function PointShotSingleSynapseTheory(t,game)\n",
    "    dt=t[2]-t[1]\n",
    "    U=EL .+ (taue*tauL*(Ee-EL)*game/((tauL-taue)*C))*( exp.(-t/tauL) .- exp.(-t./taue) )\n",
    "    return U\n",
    "end;"
   ]
  },
  {
   "cell_type": "code",
   "execution_count": 5,
   "id": "0dd95b52",
   "metadata": {},
   "outputs": [],
   "source": [
    "function DendShotSingleSynapseTheory(t,xs,game)\n",
    "    \n",
    "    dt=t[2]-t[1]\n",
    "    betae=(Ee-EL)*tauL*game/(2*pi*a*c*lamL)\n",
    "    tt=t .- dt/2\n",
    "    tt=t\n",
    "    Q=exp.(-tt/tauL .+ tt/taue .- ((xs/lamL)^2)./(4*tt/tauL))./sqrt.(4*pi*t/tauL)\n",
    "    \n",
    "    return EL .+ betae*(dt/tauL)*cumsum(Q).*exp.(-t/taue)\n",
    "\n",
    "end;"
   ]
  },
  {
   "cell_type": "code",
   "execution_count": 6,
   "id": "c00f5af8",
   "metadata": {},
   "outputs": [],
   "source": [
    "function MyStats(t,f)\n",
    "    sp=argmax(f); tp=t[sp]; fp=f[sp]\n",
    "    s1,s2=minimum(findall(f.>fp/2)),maximum(findall(f.>fp/2))\n",
    "    tfwh=t[s2]-t[s1]\n",
    "    return tp\n",
    "end;"
   ]
  },
  {
   "cell_type": "markdown",
   "id": "39d31f22",
   "metadata": {},
   "source": [
    " --- "
   ]
  },
  {
   "cell_type": "markdown",
   "id": "462ab665",
   "metadata": {},
   "source": [
    "# (i) Panels 1A and 1B for single synaptic input   "
   ]
  },
  {
   "cell_type": "code",
   "execution_count": 7,
   "id": "810c9681",
   "metadata": {},
   "outputs": [],
   "source": [
    "# Time and space grid\n",
    "dtA=0.001; TA=200; \n",
    "tA=collect(dtA:dtA:TA); ntA=length(tA); \n",
    "dxA=2; LA=2000; \n",
    "xA=collect(dxA:dxA:LA); nxA=length(xA);\n",
    "\n",
    "# time and position of pulses\n",
    "xAs=LA/2;  # midpoint\n",
    "tAs=2*dtA; # just above zero\n",
    "\n",
    "sAh=Int(xAs/dxA);"
   ]
  },
  {
   "cell_type": "code",
   "execution_count": 8,
   "id": "eaf906ce",
   "metadata": {},
   "outputs": [],
   "source": [
    "# Get a simulation pulse for the point and dendrite cases\n",
    "\n",
    "UDsim,HeD,HiD=DendrShotSingleSynapseSim(xA,tA,xAs,tAs,game)\n",
    "UPsim,HeP,HiP=PointShotSingleSynapseSim(tA,tAs,game);\n",
    "\n",
    "UDsim=UDsim .-EL\n",
    "UPsim=UPsim .-EL\n",
    "\n",
    "# Three positions in addition to the zero one\n",
    "xA1,xA2,xA3=50,100,200;\n",
    "sA1,sA2,sA3=Int.(((xAs+xA1)/dxA,(xAs+xA2)/dxA,(xAs+xA3)/dxA));\n",
    "UD0sim,UD1sim,UD2sim,UD3sim=UDsim[sAh,:],UDsim[sA1,:],UDsim[sA2,:],UDsim[sA3,:];"
   ]
  },
  {
   "cell_type": "code",
   "execution_count": 9,
   "id": "d1950285",
   "metadata": {},
   "outputs": [],
   "source": [
    "# Theory results\n",
    "\n",
    "#(UDthe0,UDthe1,UDthe2,UDthe3)=DendShotSingleSynapseTheory.(t,(0.0,x1,x2,x3),game);\n",
    "UD0=DendShotSingleSynapseTheory(tA,0.0,game) .-EL;\n",
    "UD1=DendShotSingleSynapseTheory(tA,xA1,game) .-EL;\n",
    "UD2=DendShotSingleSynapseTheory(tA,xA2,game) .-EL\n",
    "UD3=DendShotSingleSynapseTheory(tA,xA3,game) .-EL;\n",
    "\n",
    "UP=PointShotSingleSynapseTheory(tA,game).-EL;"
   ]
  },
  {
   "cell_type": "code",
   "execution_count": 10,
   "id": "022d6a17",
   "metadata": {},
   "outputs": [],
   "source": [
    "tpD=[MyStats(tA,UD0),MyStats(tA,UD1),MyStats(tA,UD2),MyStats(tA,UD3)];\n",
    "tpP=MyStats(tA,UP);"
   ]
  },
  {
   "cell_type": "code",
   "execution_count": 11,
   "id": "569ed5fa",
   "metadata": {},
   "outputs": [],
   "source": [
    "ttA=[0.1,2,5,10];\n",
    "ssA=Int.(ttA/dtA)\n",
    "xxA=xA.-1000;"
   ]
  },
  {
   "cell_type": "code",
   "execution_count": null,
   "id": "2bf9f06e",
   "metadata": {},
   "outputs": [],
   "source": []
  },
  {
   "cell_type": "code",
   "execution_count": 12,
   "id": "7d56ce7d",
   "metadata": {},
   "outputs": [],
   "source": [
    "#####################\n",
    "# Summary\n",
    "#####################\n",
    "\n",
    "# UDsim is a space time simulation\n",
    "\n",
    "# For panel 1A\n",
    "# Use UDsim at timeslices given by ttA\n",
    "\n",
    "# These are for panel 1B\n",
    "# UD0sim, UD1sim etc are simulations for v versus time \n",
    "# UD0,UD1,UD2,UD3 are theory for v vesus time \n",
    "\n",
    "\n",
    "# UP is theory for point case\n"
   ]
  },
  {
   "cell_type": "code",
   "execution_count": 13,
   "id": "a0a0c343",
   "metadata": {},
   "outputs": [
    {
     "name": "stdout",
     "output_type": "stream",
     "text": [
      "max t: 2.37 2.37\n",
      "max v: 2.677 2.754\n"
     ]
    }
   ],
   "source": [
    "# find the maximum of the simulation\n",
    "\n",
    "simmaxs=argmax(UDsim)[2]\n",
    "themaxs=argmax(UD0)\n",
    "\n",
    "simmaxt=round(dtA*simmaxs,digits=2)\n",
    "themaxt=round(dtA*simmaxs,digits=2)\n",
    "\n",
    "simmaxv=round(maximum(UDsim),digits=3)\n",
    "themaxv=round(maximum(UD0),digits=3)\n",
    "\n",
    "println(\"max t: $simmaxt $themaxt\")\n",
    "println(\"max v: $simmaxv $themaxv\")\n"
   ]
  },
  {
   "cell_type": "code",
   "execution_count": 14,
   "id": "f8c4426b",
   "metadata": {},
   "outputs": [],
   "source": [
    "# Normalise the dendritic EPSPs\n",
    "\n",
    "UDsim=UDsim/maximum(UDsim);\n",
    "for UD in [UD1,UD2,UD3,UD0]\n",
    "    UD[:]=UD[:]/maximum(UD0)\n",
    "end\n",
    "\n",
    "UP=UP/maximum(UP);"
   ]
  },
  {
   "cell_type": "markdown",
   "id": "007758ca",
   "metadata": {},
   "source": [
    "---"
   ]
  },
  {
   "cell_type": "markdown",
   "id": "0bbc7390",
   "metadata": {},
   "source": [
    "# (ii) Panels 1C and 1D for fluctuating input  "
   ]
  },
  {
   "cell_type": "code",
   "execution_count": 15,
   "id": "e2ac1728",
   "metadata": {},
   "outputs": [
    {
     "name": "stdout",
     "output_type": "stream",
     "text": [
      "Mean voltage for r*=5.0Hz is E*=-57.12mV\n",
      "Actual rate at this mean voltage is 4.999Hz"
     ]
    }
   ],
   "source": [
    "# Fluctuations are around the same steady state values used for the later figures.\n",
    "# Need to find the mean voltage corresponding to target rate rstar.\n",
    "\n",
    "rstar=rstarHz/K # the target rate in kHz\n",
    "\n",
    "# The range of resting voltages\n",
    "dEthe=0.1;\n",
    "EEthe=collect(EL:dEthe:Vth)\n",
    "nEEthe=length(EEthe)\n",
    "aL=1/tauL; a0=aL/kappa\n",
    "aae=((EEthe .-Ei)*a0 .- aL*(EL-Ei))/(Ee-Ei)\n",
    "aai=((Ee .-EEthe)*a0 .- aL*(Ee-EL))/(Ee-Ei);\n",
    "\n",
    "# Theoretical quantities\n",
    "DV0EEthe,Dvv0EEthe,Ddvdv0EEthe,Dru0EEthe,Dvhe0EEthe,Dvhi0EEthe=(zeros(nEEthe) for j=1:6)\n",
    "for k=1:nEEthe\n",
    "    DV0EEthe[k],Dvhe0EEthe[k],Dvhi0EEthe[k],Dvv0EEthe[k],Ddvdv0EEthe[k],Dru0EEthe[k]=DendrSteadyTheory(aae[k],aai[k]);\n",
    "end\n",
    "\n",
    "# Linear interpolation for the mean voltage\n",
    "GetxStar(x1,x2,y1,y2,ystar)=x1 + (x2-x1)*(ystar-y1)/(y2-y1)\n",
    "sD2=minimum(findall(Dru0EEthe.>rstar)); sD1=sD2-1\n",
    "DEstar=GetxStar(EEthe[sD1],EEthe[sD2],Dru0EEthe[sD1],Dru0EEthe[sD2],rstar)\n",
    "\n",
    "# Get the various upcrossing parameters for these values\n",
    "Daestar=((DEstar .-Ei)*a0 .- aL*(EL-Ei))/(Ee-Ei)\n",
    "Daistar=((Ee .-DEstar)*a0 .- aL*(Ee-EL))/(Ee-Ei);\n",
    "DV0Esthe,Dvhe0Esthe,Dvhi0Esthe,Dvv0Esthe,Ddvdv0Esthe,Dru0Esthe=DendrSteadyTheory(Daestar,Daistar);\n",
    "\n",
    "print(\"Mean voltage for r*=$(rstarHz)Hz is E*=$(round(DEstar,digits=2))mV\\n\")\n",
    "print(\"Actual rate at this mean voltage is $(round(K*Dru0Esthe,digits=3))Hz\")\n"
   ]
  },
  {
   "cell_type": "code",
   "execution_count": 16,
   "id": "06e4d0d7",
   "metadata": {},
   "outputs": [],
   "source": [
    "# Now run some simulations to show examples of the fluctuating voltage.\n",
    "\n",
    "#dt=0.005; dx=10\n",
    "dt=0.02; dx=20;\n",
    "#dt=0.04; dx=25\n",
    "#dt=0.2; dx=50;\n",
    "\n",
    "T=1000; \n",
    "t=collect(dt:dt:T); nt=length(t); \n",
    "x=collect(dx:dx:L); nx=length(x);\n",
    "\n",
    "# Gets data and rough figure. Set the seed:\n",
    "Random.seed!(10);\n",
    "\n",
    "Daestart=Daestar*ones(nt); Daistart=Daistar*ones(nt)\n",
    "Dstatestart=(zeros(nx),zeros(nx),EL,0,0,zeros(nx))\n",
    "bU,u,~,~,~,Dstatestart=DendrGaussApproxSim(x,t,Daestart,Daistart,Dstatestart);\n"
   ]
  },
  {
   "cell_type": "code",
   "execution_count": 17,
   "id": "844eedcc",
   "metadata": {},
   "outputs": [],
   "source": [
    "\n",
    "#TP=670; TT=100; dTT=20; tvshift=15\n",
    "#tt=collect(T-TT-TP:dTT:T-TP); ss=Int.(ceil.(tt/dt)); ntt=length(tt);"
   ]
  },
  {
   "cell_type": "markdown",
   "id": "525cc7b7",
   "metadata": {},
   "source": [
    "---   "
   ]
  },
  {
   "cell_type": "markdown",
   "id": "32f24362",
   "metadata": {},
   "source": [
    "# (iii) Figure 1 code"
   ]
  },
  {
   "cell_type": "code",
   "execution_count": 18,
   "id": "0eeb1e62",
   "metadata": {},
   "outputs": [],
   "source": [
    "##################################################################\n",
    "# Figure 1.\n",
    "##################################################################\n",
    "\n",
    "pygui(true)\n",
    "fig=figure(figsize=1.6.*(3.375,3.125))\n",
    "\n",
    "panelfs=14\n",
    "labelfs=8\n",
    "tickfs=8\n",
    "lw=1.0\n",
    "ms=3\n",
    "\n",
    "##################################################################\n",
    "# Positions\n",
    "##################################################################\n",
    "bx,tx=0.1,0.95 # top and bottom x edges\n",
    "by,ty=0.1,0.925 # top and bottom y edges\n",
    "gx,gy=0.12,0.12 # gap sizes\n",
    "\n",
    "wx=(tx-bx-gx)/2\n",
    "wy=(ty-by-gy)/2\n",
    "\n",
    "xA,yA,wA,hA=bx,by+wy+gy,wx,wy\n",
    "xB,yB,wB,hB=bx+wx+gx,by+wy+gy,wx,wy\n",
    "xC,yC,wC,hC=bx,by,wx,wy\n",
    "xD,yD,wD,hD=bx+wx+gx,by,wx,wy\n",
    "\n",
    "sI=0.2\n",
    "xBI,yBI,wBI,hBI=bx+wx+gx+sI,by+wy+gy+sI,wx-sI,wy-sI\n",
    "\n",
    "##################################################################\n",
    "# Panel 1A: Voltage by space for different times\n",
    "##################################################################\n",
    "\n",
    "ax1=plt.axes([xA,yA,wA,hA]);\n",
    "fig.text(xA-0.08, 0.95, \"A\", fontsize=panelfs)\n",
    "plot(xxA,UDsim[:,ssA[1]],\"k-\",linewidth=lw);\n",
    "plot(xxA,UDsim[:,ssA[2]],\"k-\",linewidth=lw);\n",
    "plot(xxA,UDsim[:,ssA[3]],\"k-\",linewidth=lw);\n",
    "plot(xxA,UDsim[:,ssA[4]],\"k-\",linewidth=lw);\n",
    "text(-35,0.42,L\"0.5\",fontsize=tickfs)\n",
    "text(-35,0.36,L\"\\mathrm{ms}\",fontsize=tickfs)\n",
    "text(5,1.05,L\"2\\mathrm{ms}\",fontsize=tickfs)\n",
    "text(70,0.55,L\"5\\mathrm{ms}\",fontsize=tickfs)\n",
    "text(280,0.1,L\"10\\mathrm{ms}\",fontsize=tickfs)\n",
    "\n",
    "#fill_between(xxA,UDsim[:,ssA[1]],color=\"black\",alpha=0.1)\n",
    "#fill_between(xxA,UDsim[:,ssA[2]],color=\"darkgray\",alpha=0.1)\n",
    "#fill_between(xxA,UDsim[:,ssA[3]],color=\"gray\",alpha=0.1)\n",
    "#fill_between(xxA,UDsim[:,ssA[4]],color=\"lightgray\",alpha=0.1)\n",
    "yp=0.02\n",
    "#plot(0,yp,\"bo\",50,yp,\"go\",100,yp,\"yo\",200,yp,\"ro\",markersize=ms)\n",
    "axis([-400,400,0,1.2]); \n",
    "xticks(fontsize=tickfs);yticks(fontsize=tickfs)\n",
    "xlabel(L\"$\\mathrm{Position}$ ($\\mu$m)\",fontsize=labelfs); \n",
    "ylabel(L\"$\\mathrm{Voltage}$ (mV)\",fontsize=labelfs)\n",
    "\n",
    "##################################################################\n",
    "# Panel 1B: Voltage by space for different times\n",
    "##################################################################\n",
    "\n",
    "ax2=plt.axes([xB,yB,wB,hB]); \n",
    "fig.text(xB-0.08, 0.95, \"B\", fontsize=panelfs)\n",
    "plot(tA,UP,\"k:\",linewidth=lw)\n",
    "plot(tA,UD0,\"k-\",linewidth=lw)\n",
    "plot(tA,UD1,\"k-\",linewidth=lw)\n",
    "plot(tA,UD2,\"k-\",linewidth=lw)\n",
    "plot(tA,UD3,\"k-\",linewidth=lw)\n",
    "text(0,1.05,L\"0\\mu\\mathrm{m}\",fontsize=tickfs)\n",
    "text(11,0.57,L\"50\\mu\\mathrm{m}\",fontsize=tickfs)\n",
    "text(20,0.36,L\"100\\mu\\mathrm{m}\",fontsize=tickfs)\n",
    "text(50,0.1,L\"200\\mu\\mathrm{m}\",fontsize=tickfs)\n",
    "\n",
    "axis([-2,100,0,1.2])\n",
    "ax2.spines[\"top\"].set_visible(false)\n",
    "ax2.spines[\"right\"].set_visible(false)\n",
    "xticks(fontsize=tickfs);yticks(fontsize=tickfs)\n",
    "xlabel(\"Time (ms)\",fontsize=labelfs); \n",
    "ylabel(\"Voltage (mV)\",fontsize=labelfs)\n",
    "\n",
    "##################################################################\n",
    "# Panel 1B Inset: Voltage by space for different times\n",
    "##################################################################\n",
    "\n",
    "ax3=plt.axes([xBI,yBI,wBI,hBI]);\n",
    "plot([0,xA1,xA2,xA3],tpD,\"k-\")\n",
    "plot(0,tpD[1],\"ko\",markersize=ms)\n",
    "plot(xA1,tpD[2],\"ko\",markersize=ms)\n",
    "plot(xA2,tpD[3],\"ko\",markersize=ms)\n",
    "plot(xA3,tpD[4],\"ko\",markersize=ms)\n",
    "plot([0,xA3],tpP*[1,1],\"k:\",linewidth=lw)\n",
    "xticks(fontsize=tickfs);yticks(fontsize=tickfs)\n",
    "xlabel(L\"Distance ($\\mu$m)\",fontsize=labelfs); \n",
    "ylabel(\"Peak time (ms)\",fontsize=labelfs)\n",
    "axis([-2,xA3*1.1,0,tpD[end]*1.1]);\n",
    "\n",
    "##################################################################\n",
    "# Panel 1C: Voltage by space for different times\n",
    "##################################################################\n",
    "TP=670; TT=100; dTT=20; tvshift=15\n",
    "tt=collect(T-TT-TP:dTT:T-TP); ss=Int.(ceil.(tt/dt)); ntt=length(tt);\n",
    "\n",
    "s0=findall((x.-1000).==0) # find the zero point\n",
    "\n",
    "gbit=hC/10\n",
    "hCbit=(hC-2*gbit)/3\n",
    "\n",
    "ax41=plt.axes([xC,yC,wC,hCbit]);\n",
    "plot(x.-1000,u[ss[5],:].+bU[ss[5]],\"k-\",linewidth=lw)\n",
    "plot(x[s0].-1000,u[ss[5],s0].+bU[ss[5]],\"ko\",markersize=ms)\n",
    "xlabel(L\"Position ($\\mu$m)\",fontsize=labelfs); \n",
    "xticks(fontsize=tickfs);yticks(fontsize=tickfs)\n",
    "text(0,-63,L\"3\",fontsize=tickfs)\n",
    "\n",
    "ax42=plt.axes([xC,yC+hCbit+gbit,wC,hCbit])\n",
    "plot(x.-1000,u[ss[4],:].+bU[ss[4]],\"k-\",linewidth=lw)\n",
    "plot(x[s0].-1000,u[ss[4],s0].+bU[ss[4]],\"ko\",markersize=ms)\n",
    "ylabel(\"Voltage (mV)\",fontsize=labelfs)\n",
    "xticks(fontsize=tickfs);yticks(fontsize=tickfs)\n",
    "text(0,-55,L\"2\",fontsize=tickfs)\n",
    "\n",
    "ax43=plt.axes([xC,yC+2hCbit+2gbit,wC,hCbit])\n",
    "plot(x.-1000,u[ss[3],:].+bU[ss[3]],\"k-\",linewidth=lw)\n",
    "plot(x[s0].-1000,u[ss[3],s0].+bU[ss[3]],\"ko\",markersize=ms)\n",
    "xticks(fontsize=tickfs);yticks(fontsize=tickfs)\n",
    "text(0,-56,L\"1\",fontsize=tickfs)\n",
    "\n",
    "for ax in [ax41,ax42,ax43]\n",
    "    #ax.plot(x.-1000,EL*ones(size(x)),\"k:\",linewidth=lw)\n",
    "    ax.plot(x.-1000,Vth*ones(size(x)),\"k:\",linewidth=lw)\n",
    "    ax.axis([-400,400,EL-5,Vth+5])\n",
    "end\n",
    "\n",
    "ax42.set_xticklabels([],fontsize=tickfs)\n",
    "ax43.set_xticklabels([],fontsize=tickfs)\n",
    "\n",
    "fig.text(xC-0.08, 0.5, \"C\", fontsize=panelfs)\n",
    "\n",
    "\n",
    "##################################################################\n",
    "# Panel 1D: Voltage by space for different times\n",
    "##################################################################\n",
    "\n",
    "ax5=plt.axes([xD,yD,wD,hD]);\n",
    "fig.text(xD-0.08, 0.5, \"D\", fontsize=panelfs)\n",
    "sh=Int(L/(2dx));\n",
    "UU=bU.+u[:,sh]\n",
    "plot(t,UU,\"-k\",linewidth=lw)\n",
    "plot([0,1000],Vth*[1,1],\"k:\",linewidth=lw)\n",
    "text(310,-50+0.5,L\"V_\\mathrm{th}\",fontsize=tickfs)\n",
    "plot(tt,UU[ss],\"ok\",markersize=ms)\n",
    "text(270,-58,L\"1\",fontsize=tickfs)\n",
    "text(290,-47,L\"2\",fontsize=tickfs)\n",
    "text(310,-59,L\"3\",fontsize=tickfs)\n",
    "axis([260,320,EL-5,Vth+5]);\n",
    "ax2.spines[\"top\"].set_visible(false)\n",
    "ax2.spines[\"right\"].set_visible(false)\n",
    "\n",
    "xticks(fontsize=tickfs);yticks(fontsize=tickfs)\n",
    "xlabel(\"Time (ms)\",fontsize=labelfs); \n",
    "ylabel(\"Voltage (mV)\",fontsize=labelfs);\n",
    "\n",
    "matplotlib.pyplot.arrow(280, -48, 4.5, -1.5,width=0.1,color=\"k\")\n",
    "\n",
    "for ax in [ax1,ax2,ax3,ax5]\n",
    "    ax.spines[\"top\"].set_visible(false)\n",
    "    ax.spines[\"right\"].set_visible(false)\n",
    "end\n",
    "\n",
    "savefig(\"Fig1.pdf\")"
   ]
  },
  {
   "cell_type": "code",
   "execution_count": null,
   "id": "dcbad01d",
   "metadata": {},
   "outputs": [],
   "source": []
  },
  {
   "cell_type": "code",
   "execution_count": 19,
   "id": "0773578c",
   "metadata": {},
   "outputs": [],
   "source": [
    "close(\"all\")"
   ]
  },
  {
   "cell_type": "code",
   "execution_count": null,
   "id": "3a86bb7b",
   "metadata": {},
   "outputs": [],
   "source": []
  }
 ],
 "metadata": {
  "kernelspec": {
   "display_name": "Julia 1.4.1",
   "language": "julia",
   "name": "julia-1.4"
  },
  "language_info": {
   "file_extension": ".jl",
   "mimetype": "application/julia",
   "name": "julia",
   "version": "1.4.1"
  }
 },
 "nbformat": 4,
 "nbformat_minor": 5
}
